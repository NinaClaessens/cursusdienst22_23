{
 "cells": [
  {
   "cell_type": "code",
   "execution_count": 51,
   "metadata": {},
   "outputs": [],
   "source": [
    "import requests\n",
    "from bs4 import BeautifulSoup\n",
    "import pandas as pd"
   ]
  },
  {
   "cell_type": "code",
   "execution_count": 2,
   "metadata": {},
   "outputs": [],
   "source": [
    "url = \"https://onderwijsaanbod.kuleuven.be/opleidingen/n/SC_55036830.htm\"\n",
    "soup = BeautifulSoup(requests.get(url).text, 'html.parser')"
   ]
  },
  {
   "cell_type": "code",
   "execution_count": null,
   "metadata": {},
   "outputs": [],
   "source": [
    "[link for link in soup.find_all(\"a\", href=True) if \"syllabi\" in link.get(\"href\")]"
   ]
  },
  {
   "cell_type": "code",
   "execution_count": 52,
   "metadata": {},
   "outputs": [
    {
     "data": {
      "text/html": [
       "<div>\n",
       "<style scoped>\n",
       "    .dataframe tbody tr th:only-of-type {\n",
       "        vertical-align: middle;\n",
       "    }\n",
       "\n",
       "    .dataframe tbody tr th {\n",
       "        vertical-align: top;\n",
       "    }\n",
       "\n",
       "    .dataframe thead th {\n",
       "        text-align: right;\n",
       "    }\n",
       "</style>\n",
       "<table border=\"1\" class=\"dataframe\">\n",
       "  <thead>\n",
       "    <tr style=\"text-align: right;\">\n",
       "      <th></th>\n",
       "      <th>code</th>\n",
       "      <th>sem</th>\n",
       "      <th>prof</th>\n",
       "    </tr>\n",
       "  </thead>\n",
       "  <tbody>\n",
       "    <tr>\n",
       "      <th>0</th>\n",
       "      <td>H01A8A</td>\n",
       "      <td>Eerste semester</td>\n",
       "      <td>{'00012283': 'I.Smets', '00015835': 'P.Van Puy...</td>\n",
       "    </tr>\n",
       "    <tr>\n",
       "      <th>1</th>\n",
       "      <td>H01B0B</td>\n",
       "      <td>Eerste semester</td>\n",
       "      <td>{'00008451': 'J.Vander Sloten', '00046457': 'T...</td>\n",
       "    </tr>\n",
       "    <tr>\n",
       "      <th>2</th>\n",
       "      <td>H01D0A</td>\n",
       "      <td>Tweede semester</td>\n",
       "      <td>{'00008023': 'B.Blanpain', '00038090': 'K.Vanm...</td>\n",
       "    </tr>\n",
       "    <tr>\n",
       "      <th>3</th>\n",
       "      <td>H01Z2A</td>\n",
       "      <td>Tweede semester</td>\n",
       "      <td>{'00006076': 'W.Dehaene', '00014436': 'M.Steya...</td>\n",
       "    </tr>\n",
       "    <tr>\n",
       "      <th>4</th>\n",
       "      <td>H01B2B</td>\n",
       "      <td>Tweede semester</td>\n",
       "      <td>{'00031977': 'M.Houssa', '00013713': 'J.Indekeu'}</td>\n",
       "    </tr>\n",
       "    <tr>\n",
       "      <th>...</th>\n",
       "      <td>...</td>\n",
       "      <td>...</td>\n",
       "      <td>...</td>\n",
       "    </tr>\n",
       "    <tr>\n",
       "      <th>152</th>\n",
       "      <td>H08U4A</td>\n",
       "      <td>Tweede semester</td>\n",
       "      <td>{'00015548': 'J.Swevers'}</td>\n",
       "    </tr>\n",
       "    <tr>\n",
       "      <th>153</th>\n",
       "      <td>H01V4B</td>\n",
       "      <td>Eerste semester</td>\n",
       "      <td>{'00040958': 'M.Schevenels', '00117989': 'G.Va...</td>\n",
       "    </tr>\n",
       "    <tr>\n",
       "      <th>154</th>\n",
       "      <td>H01E7A</td>\n",
       "      <td>Tweede semester</td>\n",
       "      <td>{'00009249': 'P.Willems', '00011040': 'T.Van G...</td>\n",
       "    </tr>\n",
       "    <tr>\n",
       "      <th>155</th>\n",
       "      <td>H03L1B</td>\n",
       "      <td>Tweede semester</td>\n",
       "      <td>{'00038015': 'K.Allacker', '00022648': 'F.De T...</td>\n",
       "    </tr>\n",
       "    <tr>\n",
       "      <th>156</th>\n",
       "      <td>I0J25A</td>\n",
       "      <td>Tweede semester</td>\n",
       "      <td>{'00076217': 'K.Van Meerbeek', '00032939': 'H....</td>\n",
       "    </tr>\n",
       "  </tbody>\n",
       "</table>\n",
       "<p>157 rows × 3 columns</p>\n",
       "</div>"
      ],
      "text/plain": [
       "       code              sem  \\\n",
       "0    H01A8A  Eerste semester   \n",
       "1    H01B0B  Eerste semester   \n",
       "2    H01D0A  Tweede semester   \n",
       "3    H01Z2A  Tweede semester   \n",
       "4    H01B2B  Tweede semester   \n",
       "..      ...              ...   \n",
       "152  H08U4A  Tweede semester   \n",
       "153  H01V4B  Eerste semester   \n",
       "154  H01E7A  Tweede semester   \n",
       "155  H03L1B  Tweede semester   \n",
       "156  I0J25A  Tweede semester   \n",
       "\n",
       "                                                  prof  \n",
       "0    {'00012283': 'I.Smets', '00015835': 'P.Van Puy...  \n",
       "1    {'00008451': 'J.Vander Sloten', '00046457': 'T...  \n",
       "2    {'00008023': 'B.Blanpain', '00038090': 'K.Vanm...  \n",
       "3    {'00006076': 'W.Dehaene', '00014436': 'M.Steya...  \n",
       "4    {'00031977': 'M.Houssa', '00013713': 'J.Indekeu'}  \n",
       "..                                                 ...  \n",
       "152                          {'00015548': 'J.Swevers'}  \n",
       "153  {'00040958': 'M.Schevenels', '00117989': 'G.Va...  \n",
       "154  {'00009249': 'P.Willems', '00011040': 'T.Van G...  \n",
       "155  {'00038015': 'K.Allacker', '00022648': 'F.De T...  \n",
       "156  {'00076217': 'K.Van Meerbeek', '00032939': 'H....  \n",
       "\n",
       "[157 rows x 3 columns]"
      ]
     },
     "execution_count": 52,
     "metadata": {},
     "output_type": "execute_result"
    }
   ],
   "source": [
    "from pydoc import doc\n",
    "\n",
    "courses = []\n",
    "for course in soup.find_all(\"tr\", {\"class\":\"opo_row fase_active\"}):\n",
    "    prof = {}\n",
    "    for docent in course.findChildren(\"td\", {\"class\":\"docent\"})[0].findChildren(\"a\"):\n",
    "        pnr = docent.get(\"href\").split(\"/\")[-1]\n",
    "        if pnr != \"#\":\n",
    "            prof[pnr]=docent.contents[0]\n",
    "    courses.append({\n",
    "        \"code\":course.findChildren(\"td\", {\"class\":\"code\"})[0].contents[0],\n",
    "        \"sem\":course.findChildren(\"td\",{\"class\":\"sem\"})[0].contents[0].get(\"title\"),\n",
    "        \"prof\":prof\n",
    "    })\n",
    "pd.DataFrame(courses)\n"
   ]
  }
 ],
 "metadata": {
  "kernelspec": {
   "display_name": "Python 3.10.2 64-bit",
   "language": "python",
   "name": "python3"
  },
  "language_info": {
   "codemirror_mode": {
    "name": "ipython",
    "version": 3
   },
   "file_extension": ".py",
   "mimetype": "text/x-python",
   "name": "python",
   "nbconvert_exporter": "python",
   "pygments_lexer": "ipython3",
   "version": "3.10.5"
  },
  "orig_nbformat": 4,
  "vscode": {
   "interpreter": {
    "hash": "8c7f0a6833b2e90d418006e0e6deec1fc5fac15b23c1dee2df1a27ddd2f0576d"
   }
  }
 },
 "nbformat": 4,
 "nbformat_minor": 2
}
