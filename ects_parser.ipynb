{
 "cells": [
  {
   "cell_type": "code",
   "execution_count": 2,
   "metadata": {},
   "outputs": [],
   "source": [
    "import requests\n",
    "from bs4 import BeautifulSoup\n",
    "import pandas as pd"
   ]
  },
  {
   "cell_type": "code",
   "execution_count": null,
   "metadata": {},
   "outputs": [],
   "source": [
    "semester = 1 #kies eerste of tweede semester"
   ]
  },
  {
   "cell_type": "code",
   "execution_count": null,
   "metadata": {},
   "outputs": [],
   "source": [
    "if semester ==1:\n",
    "        sem = [\"Eerste semester\", \"First term\", \"Bothe terms\", \"Beide semesters\"]\n",
    "else:\n",
    "        sem = [\"Tweede semester\", \"Second term\", \"Bothe terms\", \"Beide semesters\"]"
   ]
  },
  {
   "cell_type": "code",
   "execution_count": 4,
   "metadata": {},
   "outputs": [],
   "source": [
    "\n",
    "url_bach = [\"https://onderwijsaanbod.kuleuven.be/opleidingen/n/SC_56161657.htm\",\n",
    " \"https://onderwijsaanbod.kuleuven.be/opleidingen/n/SC_55036830.htm\"]\n",
    " \n",
    "url_master= [\"https://onderwijsaanbod.kuleuven.be/opleidingen/n/SC_56161657.htm\",\n",
    " \"https://onderwijsaanbod.kuleuven.be/opleidingen/n/SC_55036830.htm\",\n",
    " \"https://onderwijsaanbod.kuleuven.be/opleidingen/n/SC_51016873.htm\",\n",
    " \"https://onderwijsaanbod.kuleuven.be/opleidingen/n/SC_51016868.htm\",\n",
    " \"https://onderwijsaanbod.kuleuven.be/opleidingen/e/SC_55911729.htm\",\n",
    " \"https://onderwijsaanbod.kuleuven.be/opleidingen/n/SC_56171293.htm\",\n",
    " \"https://onderwijsaanbod.kuleuven.be/opleidingen/e/SC_55799916.htm\",\n",
    " \"https://onderwijsaanbod.kuleuven.be/opleidingen/n/SC_51547571.htm\",\n",
    " \"https://onderwijsaanbod.kuleuven.be/opleidingen/e/SC_51370066.htm\",\n",
    " \"https://onderwijsaanbod.kuleuven.be/opleidingen/n/SC_51230411.htm\",\n",
    " \"https://onderwijsaanbod.kuleuven.be/opleidingen/e/SC_52364422.htm\",\n",
    " \"https://onderwijsaanbod.kuleuven.be/opleidingen/n/SC_55020635.htm\",\n",
    " \"https://onderwijsaanbod.kuleuven.be/opleidingen/e/SC_55032326.htm\",\n",
    " \"https://onderwijsaanbod.kuleuven.be/opleidingen/n/SC_51016866.htm\",\n",
    " \"https://onderwijsaanbod.kuleuven.be/opleidingen/e/SC_51384442.htm\",\n",
    " \"https://onderwijsaanbod.kuleuven.be/opleidingen/n/SC_52926320.htm\",\n",
    " \"https://onderwijsaanbod.kuleuven.be/opleidingen/e/SC_52927450.htm\",\n",
    " \"https://onderwijsaanbod.kuleuven.be/opleidingen/n/SC_52451538.htm\",\n",
    " \"https://onderwijsaanbod.kuleuven.be/opleidingen/e/SC_53840435.htm\",\n",
    " \"https://onderwijsaanbod.kuleuven.be/opleidingen/n/SC_51016928.htm\",\n",
    " \"https://onderwijsaanbod.kuleuven.be/opleidingen/e/SC_52354240.htm\",\n",
    " \"https://onderwijsaanbod.kuleuven.be/opleidingen/n/SC_51016867.htm\",\n",
    " \"https://onderwijsaanbod.kuleuven.be/opleidingen/e/SC_52357132.htm\",\n",
    " \"https://onderwijsaanbod.kuleuven.be/opleidingen/n/SC_51923163.htm\",\n",
    " \"https://onderwijsaanbod.kuleuven.be/opleidingen/e/SC_51926826.htm\"\n",
    "]\n",
    "\n"
   ]
  },
  {
   "cell_type": "code",
   "execution_count": 6,
   "metadata": {},
   "outputs": [
    {
     "data": {
      "text/plain": [
       "[<a href=\"/syllabi/n/H01A0BN.htm\">Analyse, deel 1</a>,\n",
       " <a href=\"/syllabi/n/H0E60AN.htm\">Wiskundige basistechnieken en ruimtelijk inzicht</a>,\n",
       " <a href=\"/syllabi/n/H01B0BN.htm\">Toegepaste mechanica, deel 1</a>,\n",
       " <a href=\"/syllabi/n/H01T1AN.htm\">Lineaire algebra</a>,\n",
       " <a href=\"/syllabi/n/H01B2BN.htm\">Algemene natuurkunde</a>,\n",
       " <a href=\"/syllabi/n/H09P1BN.htm\">Wiskundige analyse, deel 2</a>,\n",
       " <a href=\"/syllabi/n/H01T3CN.htm\">Informatica</a>,\n",
       " <a href=\"/syllabi/n/H01V8AN.htm\">Aanvullingen wiskunde</a>,\n",
       " <a href=\"/syllabi/n/H01U3CN.htm\">Computationeel ontwerpen</a>,\n",
       " <a href=\"/syllabi/n/H0H22AN.htm\">Aanvullingen natuurkunde</a>,\n",
       " <a href=\"/syllabi/n/H06V4AN.htm\">Scheikunde</a>,\n",
       " <a href=\"/syllabi/n/H01D0AN.htm\">Inleiding tot de materiaalkunde</a>,\n",
       " <a href=\"/syllabi/n/H08Z8AN.htm\">Sterkteleer 1</a>,\n",
       " <a href=\"/syllabi/n/H01H3BN.htm\">Bouwfysica</a>,\n",
       " <a href=\"/syllabi/n/H0H06AN.htm\">Sterkteleer 2</a>,\n",
       " <a href=\"/syllabi/e/H0P86AE.htm\">Building Acoustics</a>,\n",
       " <a href=\"/syllabi/n/H03P7AN.htm\">Constructiecomponenten: gewapend beton, deel 1</a>,\n",
       " <a href=\"/syllabi/n/H03P1BN.htm\">Constructiecomponenten: staal en hout</a>,\n",
       " <a href=\"/syllabi/n/H0H53AN.htm\">Technologie van bouwmaterialen</a>,\n",
       " <a href=\"/syllabi/n/H01I0BN.htm\">Bouwmechanica</a>,\n",
       " <a href=\"/syllabi/n/H0S33AN.htm\">Constructie van gebouwen, deel 1: hoorcollege</a>,\n",
       " <a href=\"/syllabi/n/H0S34BN.htm\">Constructie van gebouwen, deel 1: oefeningen</a>,\n",
       " <a href=\"/syllabi/n/H01V4BN.htm\">Constructie van gebouwen, deel 2</a>,\n",
       " <a href=\"/syllabi/n/H01Y3AN.htm\">Constructie van gebouwen, deel 3</a>,\n",
       " <a href=\"/syllabi/n/H01W6BN.htm\">Architecturale en stedelijke simulatie</a>,\n",
       " <a href=\"/syllabi/n/H01S4BN.htm\">Architectuurtheorie, deel 1</a>,\n",
       " <a href=\"/syllabi/n/H01S6BN.htm\">Architectuurgeschiedenis, deel 1</a>,\n",
       " <a href=\"/syllabi/n/H01V0AN.htm\">Architectuurgeschiedenis 19e-20e eeuw</a>,\n",
       " <a href=\"/syllabi/n/H01V6AN.htm\">Architectuurtheorie, deel 2: \"Tendenzen en vertogen 1965-2000\"</a>,\n",
       " <a href=\"/syllabi/n/H04O8AN.htm\">Wijsbegeerte</a>,\n",
       " <a href=\"/syllabi/e/H01W2BE.htm\">Theory and History of Urban Design</a>,\n",
       " <a href=\"/syllabi/n/H01W9CN.htm\">Architectuurtheorie, deel 3: \"De architectuur van de stad\"</a>,\n",
       " <a href=\"/syllabi/n/H01T7DN.htm\">Architectuurontwerp 1A</a>,\n",
       " <a href=\"/syllabi/n/H01U7CN.htm\">Architectuurontwerp 1B</a>,\n",
       " <a href=\"/syllabi/n/H01U9AN.htm\">Architectuurontwerp 1C: bouwtechnische aspecten</a>,\n",
       " <a href=\"/syllabi/n/H01T8AN.htm\">Ontwerpmedia en vormleer, deel 1</a>,\n",
       " <a href=\"/syllabi/n/H01V5DN.htm\">Architectuurontwerp 2A</a>,\n",
       " <a href=\"/syllabi/n/H01W1CN.htm\">Architectuurontwerp 2B</a>,\n",
       " <a href=\"/syllabi/n/H01W0AN.htm\">Architectuurontwerp 2C: bouwtechnische aspecten</a>,\n",
       " <a href=\"/syllabi/n/H0S24AN.htm\">Ontwerpmedia en vormleer, deel 2</a>,\n",
       " <a href=\"/syllabi/n/H01W8BN.htm\">Architectuurontwerp 3A</a>,\n",
       " <a href=\"/syllabi/n/H01Y5CN.htm\">Architectuurontwerp 3B</a>,\n",
       " <a href=\"/syllabi/n/H01Y6AN.htm\">Architectuurontwerp 3C: bouwtechnische aspecten</a>,\n",
       " <a href=\"/syllabi/n/H0H95AN.htm\">Ontwerpmedia en vormleer, deel 3</a>]"
      ]
     },
     "execution_count": 6,
     "metadata": {},
     "output_type": "execute_result"
    }
   ],
   "source": [
    "[link for link in soup.find_all(\"a\", href=True) if \"syllabi\" in link.get(\"href\")]"
   ]
  },
  {
   "cell_type": "code",
   "execution_count": 7,
   "metadata": {},
   "outputs": [
    {
     "ename": "NameError",
     "evalue": "name 'sem' is not defined",
     "output_type": "error",
     "traceback": [
      "\u001b[1;31m---------------------------------------------------------------------------\u001b[0m",
      "\u001b[1;31mNameError\u001b[0m                                 Traceback (most recent call last)",
      "\u001b[1;32mc:\\Users\\User\\Documents\\cursusdienst22_23\\ects_parser.ipynb Cell 4'\u001b[0m in \u001b[0;36m<cell line: 4>\u001b[1;34m()\u001b[0m\n\u001b[0;32m      <a href='vscode-notebook-cell:/c%3A/Users/User/Documents/cursusdienst22_23/ects_parser.ipynb#ch0000003?line=4'>5</a>\u001b[0m soup \u001b[39m=\u001b[39m BeautifulSoup(requests\u001b[39m.\u001b[39mget(url)\u001b[39m.\u001b[39mtext, \u001b[39m'\u001b[39m\u001b[39mhtml.parser\u001b[39m\u001b[39m'\u001b[39m)\n\u001b[0;32m      <a href='vscode-notebook-cell:/c%3A/Users/User/Documents/cursusdienst22_23/ects_parser.ipynb#ch0000003?line=5'>6</a>\u001b[0m \u001b[39mfor\u001b[39;00m course \u001b[39min\u001b[39;00m soup\u001b[39m.\u001b[39mfind_all(\u001b[39m\"\u001b[39m\u001b[39mtr\u001b[39m\u001b[39m\"\u001b[39m, {\u001b[39m\"\u001b[39m\u001b[39mclass\u001b[39m\u001b[39m\"\u001b[39m:\u001b[39m\"\u001b[39m\u001b[39mopo_row fase_active\u001b[39m\u001b[39m\"\u001b[39m}):\n\u001b[1;32m----> <a href='vscode-notebook-cell:/c%3A/Users/User/Documents/cursusdienst22_23/ects_parser.ipynb#ch0000003?line=6'>7</a>\u001b[0m     \u001b[39mif\u001b[39;00m course\u001b[39m.\u001b[39mfindChildren(\u001b[39m\"\u001b[39m\u001b[39mtd\u001b[39m\u001b[39m\"\u001b[39m,{\u001b[39m\"\u001b[39m\u001b[39mclass\u001b[39m\u001b[39m\"\u001b[39m:\u001b[39m\"\u001b[39m\u001b[39msem\u001b[39m\u001b[39m\"\u001b[39m})[\u001b[39m0\u001b[39m]\u001b[39m.\u001b[39mcontents[\u001b[39m0\u001b[39m]\u001b[39m.\u001b[39mget(\u001b[39m\"\u001b[39m\u001b[39mtitle\u001b[39m\u001b[39m\"\u001b[39m) \u001b[39min\u001b[39;00m sem:  \n\u001b[0;32m      <a href='vscode-notebook-cell:/c%3A/Users/User/Documents/cursusdienst22_23/ects_parser.ipynb#ch0000003?line=7'>8</a>\u001b[0m         prof \u001b[39m=\u001b[39m []\n\u001b[0;32m      <a href='vscode-notebook-cell:/c%3A/Users/User/Documents/cursusdienst22_23/ects_parser.ipynb#ch0000003?line=8'>9</a>\u001b[0m         \u001b[39mfor\u001b[39;00m docent \u001b[39min\u001b[39;00m course\u001b[39m.\u001b[39mfindChildren(\u001b[39m\"\u001b[39m\u001b[39mtd\u001b[39m\u001b[39m\"\u001b[39m, {\u001b[39m\"\u001b[39m\u001b[39mclass\u001b[39m\u001b[39m\"\u001b[39m:\u001b[39m\"\u001b[39m\u001b[39mdocent\u001b[39m\u001b[39m\"\u001b[39m})[\u001b[39m0\u001b[39m]\u001b[39m.\u001b[39mfindChildren(\u001b[39m\"\u001b[39m\u001b[39ma\u001b[39m\u001b[39m\"\u001b[39m):\n",
      "\u001b[1;31mNameError\u001b[0m: name 'sem' is not defined"
     ]
    }
   ],
   "source": [
    "from pydoc import doc\n",
    "\n",
    "courses = []\n",
    "for url in url_bach:\n",
    "    soup = BeautifulSoup(requests.get(url).text, 'html.parser')\n",
    "    for course in soup.find_all(\"tr\", {\"class\":\"opo_row fase_active\"}):\n",
    "        if course.findChildren(\"td\",{\"class\":\"sem\"})[0].contents[0].get(\"title\") in sem:  \n",
    "            prof = []\n",
    "            for docent in course.findChildren(\"td\", {\"class\":\"docent\"})[0].findChildren(\"a\"):\n",
    "                pnr = docent.get(\"href\").split(\"/\")[-1]\n",
    "                if pnr != \"#\" and prof.count(docent.contents[0]) == 0:\n",
    "                    prof.append(docent.contents[0])       \n",
    "            name = course.findChildren(\"td\", {\"class\":\"opleidingsonderdeel\"})[0].contents[0]\n",
    "            print(name)\n",
    "            course = {\n",
    "                \"code\":course.findChildren(\"td\", {\"class\":\"code\"})[0].contents[0],\n",
    "                \"sem\":course.findChildren(\"td\",{\"class\":\"sem\"})[0].contents[0].get(\"title\"),\n",
    "                \"prof\":prof,\n",
    "                \"course\":name\n",
    "                }\n",
    "            if course not in courses:\n",
    "                courses.append(course)\n",
    "pd.DataFrame(courses)\n"
   ]
  }
 ],
 "metadata": {
  "kernelspec": {
   "display_name": "Python 3.10.5 64-bit",
   "language": "python",
   "name": "python3"
  },
  "language_info": {
   "codemirror_mode": {
    "name": "ipython",
    "version": 3
   },
   "file_extension": ".py",
   "mimetype": "text/x-python",
   "name": "python",
   "nbconvert_exporter": "python",
   "pygments_lexer": "ipython3",
   "version": "3.10.5"
  },
  "orig_nbformat": 4,
  "vscode": {
   "interpreter": {
    "hash": "afb734500600fd355917ca529030176ea0ca205570884b88f2f6f7d791fd3fbe"
   }
  }
 },
 "nbformat": 4,
 "nbformat_minor": 2
}
